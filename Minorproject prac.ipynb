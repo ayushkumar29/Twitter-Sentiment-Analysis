{
 "cells": [
  {
   "cell_type": "markdown",
   "id": "54a4231e",
   "metadata": {},
   "source": [
    "<h1>Library<h1>"
   ]
  },
  {
   "cell_type": "code",
   "execution_count": 32,
   "id": "3037e1c0",
   "metadata": {},
   "outputs": [],
   "source": [
    "from tkinter import *\n",
    "import numpy as np\n",
    "import tweepy\n",
    "import pandas as pd\n",
    "from textblob import TextBlob\n",
    "from wordcloud import WordCloud\n",
    "import seaborn as sns\n",
    "import matplotlib.pyplot as plt\n",
    "from matplotlib.backends.backend_tkagg import FigureCanvasTkAgg\n",
    "from matplotlib.figure import Figure\n",
    "import re"
   ]
  },
  {
   "cell_type": "markdown",
   "id": "f409adc6",
   "metadata": {},
   "source": [
    "-------------------------------------------------------------------------------------------------------------------------------"
   ]
  },
  {
   "cell_type": "code",
   "execution_count": 33,
   "id": "7a1ad0c3",
   "metadata": {
    "scrolled": false
   },
   "outputs": [
    {
     "data": {
      "text/plain": [
       "''"
      ]
     },
     "execution_count": 33,
     "metadata": {},
     "output_type": "execute_result"
    }
   ],
   "source": [
    "root = Tk()\n",
    "root.title(\"Twitter Sentiment Analysis (minor project)\")"
   ]
  },
  {
   "cell_type": "markdown",
   "id": "30f4828e",
   "metadata": {},
   "source": [
    "<h4>Gui Size<h4>"
   ]
  },
  {
   "cell_type": "code",
   "execution_count": 34,
   "id": "b52f23bf",
   "metadata": {},
   "outputs": [],
   "source": [
    "width=600\n",
    "height=400\n",
    "\n",
    "root.geometry(F\"{width}x{height}\")\n",
    "root.minsize(width,height)\n",
    "root.maxsize(width,height)"
   ]
  },
  {
   "cell_type": "markdown",
   "id": "fe62b984",
   "metadata": {},
   "source": [
    "<h4>Banner Part<h4>"
   ]
  },
  {
   "cell_type": "code",
   "execution_count": 35,
   "id": "f13eaf15",
   "metadata": {},
   "outputs": [],
   "source": [
    "banner=Frame(root,padx=10,pady=10,bg=\"Blue\")\n",
    "banner.pack()\n",
    "\n",
    "heading=Label(banner,text=\"Twitter Sentiment Analysis\",font=\"comicsans 20 bold\")\n",
    "heading.pack()\n"
   ]
  },
  {
   "cell_type": "markdown",
   "id": "2111f55e",
   "metadata": {},
   "source": [
    "<h4>User Input Part<h4>"
   ]
  },
  {
   "cell_type": "code",
   "execution_count": 36,
   "id": "0a88e476",
   "metadata": {},
   "outputs": [],
   "source": [
    "input_frame = Frame(root,padx=0,pady=30)\n",
    "input_frame.pack(anchor=\"w\")\n",
    "\n",
    "input_frame1 = Frame(root,padx=0,pady=0, bg=\"yellow\")\n",
    "input_frame1.pack()\n",
    "\n",
    "username = Label(input_frame, text=\"Enter UserID without @ :- \",justify=LEFT,font=\"comicsansms 10 bold\", padx=30)\n",
    "username.grid(row=2, column=1)\n",
    "\n",
    "user_value = StringVar()\n",
    "hash_value = StringVar()\n",
    "\n",
    "userinput = Entry(input_frame, textvariable=user_value)\n",
    "userinput.grid(row=2, column=2)\n",
    "\n",
    "blank2 = Label(input_frame, text=\"OR\")\n",
    "blank2.grid(row=3, column=2)\n",
    "\n",
    "hashtag = Label(input_frame, text=\"Enter Hash Tag with # :- \",font=\"comicsansms 10 bold\", padx=30)\n",
    "hashtag.grid(row=4, column=1)\n",
    "\n",
    "hashinput = Entry(input_frame, textvariable=hash_value)\n",
    "hashinput.grid(row=4, column=2)"
   ]
  },
  {
   "cell_type": "markdown",
   "id": "e4f06e4d",
   "metadata": {},
   "source": [
    "<h4>Sentiment Part<h4>"
   ]
  },
  {
   "cell_type": "code",
   "execution_count": 37,
   "id": "7ec0c958",
   "metadata": {},
   "outputs": [],
   "source": [
    "f1 = Frame(root,padx=15,pady=14)\n",
    "f1.pack()\n",
    "\n",
    "f2 = Frame(root,padx=15,pady=14)\n",
    "f2.pack(anchor=\"w\")\n",
    "error = Label(f1, text=\"Please enter any one\", fg=\"red\")\n",
    "error2 = Label(f1, text=\"Both entry not valid\", fg=\"red\")"
   ]
  },
  {
   "cell_type": "code",
   "execution_count": 7,
   "id": "8b97a74f",
   "metadata": {},
   "outputs": [
    {
     "ename": "NameError",
     "evalue": "name 'Label' is not defined",
     "output_type": "error",
     "traceback": [
      "\u001b[1;31m---------------------------------------------------------------------------\u001b[0m",
      "\u001b[1;31mNameError\u001b[0m                                 Traceback (most recent call last)",
      "Input \u001b[1;32mIn [7]\u001b[0m, in \u001b[0;36m<cell line: 1>\u001b[1;34m()\u001b[0m\n\u001b[1;32m----> 1\u001b[0m po \u001b[38;5;241m=\u001b[39m \u001b[43mLabel\u001b[49m(f2, text\u001b[38;5;241m=\u001b[39m\u001b[38;5;124m\"\u001b[39m\u001b[38;5;124mPositive:-\u001b[39m\u001b[38;5;124m\"\u001b[39m,padx\u001b[38;5;241m=\u001b[39m\u001b[38;5;241m15\u001b[39m)\n\u001b[0;32m      2\u001b[0m na \u001b[38;5;241m=\u001b[39m Label(f2, text\u001b[38;5;241m=\u001b[39m\u001b[38;5;124m\"\u001b[39m\u001b[38;5;124mNegative:-\u001b[39m\u001b[38;5;124m\"\u001b[39m,pady\u001b[38;5;241m=\u001b[39m\u001b[38;5;241m5\u001b[39m,padx\u001b[38;5;241m=\u001b[39m\u001b[38;5;241m15\u001b[39m)\n\u001b[0;32m      3\u001b[0m nt \u001b[38;5;241m=\u001b[39m Label(f2, text\u001b[38;5;241m=\u001b[39m\u001b[38;5;124m\"\u001b[39m\u001b[38;5;124mNeutral:-\u001b[39m\u001b[38;5;124m\"\u001b[39m,padx\u001b[38;5;241m=\u001b[39m\u001b[38;5;241m15\u001b[39m)\n",
      "\u001b[1;31mNameError\u001b[0m: name 'Label' is not defined"
     ]
    }
   ],
   "source": [
    "po = Label(f2, text=\"Positive:-\",padx=15)\n",
    "na = Label(f2, text=\"Negative:-\",pady=5,padx=15)\n",
    "nt = Label(f2, text=\"Neutral:-\",padx=15)\n",
    "\n",
    "def click():\n",
    "    global pie2\n",
    "    user_name = user_value.get()\n",
    "    hash_name = hash_value.get()\n",
    "    #################################################################\n",
    "    consumerKey = \"k4eGcidYdu7mOGxgoFBsT987E\"\n",
    "    consumerSecret = \"IOTkMKO54tvYEfxzsDptbU5J67e9XIJu5ZENe8K9CDxt8BG0YI\"\n",
    "    accessToken = \"800656855898783744-KwxRt17dgvst5gUzcv6TKUebbnrRKx4\"\n",
    "    accessTokenSecret = \"ripEleHwDeIfuwxgTbBLDT3FvA4Dc0nbsjzr7eWRMB3xJ\"\n",
    "    ##################################################################\n",
    "    authenticate = tweepy.OAuthHandler(consumerKey, consumerSecret)\n",
    "    authenticate.set_access_token(accessToken, accessTokenSecret)\n",
    "    api = tweepy.API(authenticate, wait_on_rate_limit = True) # api object\n",
    "    \n",
    "    if user_name == \"\" and hash_name == \"\":\n",
    "        error.grid()\n",
    "    elif hash_name == \"\":\n",
    "        error.grid_remove()\n",
    "        global number\n",
    "        if number > 1:\n",
    "            po.grid_remove()\n",
    "            na.grid_remove()\n",
    "            nt.grid_remove()\n",
    "        \n",
    "        post = api.user_timeline(screen_name=user_name, count = 500, lang =\"en\", tweet_mode=\"extended\")\n",
    "        twitter = pd.DataFrame([tweet.full_text for tweet in post], columns=['Tweets'])\n",
    "        def cleanTxt(text):\n",
    "            text = re.sub('@[A-Za-z0–9]+', '', text) #Removing @mentions\n",
    "            text = re.sub('#', '', text) # Removing '#' hash tag\n",
    "            text = re.sub('RT[\\s]+', '', text) # Removing RT\n",
    "            text = re.sub('https?:\\/\\/\\S+', '', text) # Removing hyperlink\n",
    "            return text\n",
    "        twitter['Tweets'] = twitter['Tweets'].apply(cleanTxt)\n",
    "        def getSubjectivity(text):\n",
    "            return TextBlob(text).sentiment.subjectivity\n",
    "        def getPolarity(text):\n",
    "            return TextBlob(text).sentiment.polarity\n",
    "        twitter['Subjectivity'] = twitter['Tweets'].apply(getSubjectivity)\n",
    "        twitter['Polarity'] = twitter['Tweets'].apply(getPolarity)\n",
    "        def getAnalysis(score):\n",
    "            if score < 0:\n",
    "                return 'Negative'\n",
    "            elif score == 0:\n",
    "                return 'Neutral'\n",
    "            else:\n",
    "                return 'Positive'\n",
    "        twitter['Analysis'] = twitter['Polarity'].apply(getAnalysis)\n",
    "        positive = twitter.loc[twitter['Analysis'].str.contains('Positive')]\n",
    "        negative = twitter.loc[twitter['Analysis'].str.contains('Negative')]\n",
    "        neutral = twitter.loc[twitter['Analysis'].str.contains('Neutral')]\n",
    "        \n",
    "        positive_per = round((positive.shape[0]/twitter.shape[0])*100, 1)\n",
    "        negative_per = round((negative.shape[0]/twitter.shape[0])*100, 1)\n",
    "        neutral_per = round((neutral.shape[0]/twitter.shape[0])*100, 1)\n",
    "        \n",
    "        po = Label(f2, text=f\"Positive:- {positive_per}%\",padx=15).grid(row=1, column=2)\n",
    "        na = Label(f2, text=f\"Negative:- {negative_per}%\",pady=5,padx=15).grid(row=2, column=2)\n",
    "        nt = Label(f2, text=f\"Neutral:- {neutral_per}%\",padx=15).grid(row=3, column=2)\n",
    "        \n",
    "        number += 1\n",
    "        \n",
    "    elif user_name == \"\":\n",
    "        error.grid_remove()\n",
    "        if number > 1:\n",
    "            po.grid_remove()\n",
    "            na.grid_remove()\n",
    "            nt.grid_remove()\n",
    "        \n",
    "        msgs = []\n",
    "        msg =[]\n",
    "        for tweet in tweepy.Cursor(api.search, q=hash_name).items(500):\n",
    "            msg = [tweet.text] \n",
    "            msg = tuple(msg)                    \n",
    "            msgs.append(msg)\n",
    "        def cleanTxt(text):\n",
    "            text = re.sub('@[A-Za-z0–9]+', '', text) #Removing @mentions\n",
    "            text = re.sub('#', '', text) # Removing '#' hash tag\n",
    "            text = re.sub('RT[\\s]+', '', text) # Removing RT\n",
    "            text = re.sub('https?:\\/\\/\\S+', '', text) # Removing hyperlink\n",
    "            return text\n",
    "        df = pd.DataFrame(msgs)\n",
    "        df['Tweets'] = df[0].apply(cleanTxt)\n",
    "        df.drop(0, axis=1, inplace=True)\n",
    "        def getSubjectivity(text):\n",
    "            return TextBlob(text).sentiment.subjectivity\n",
    "        def getPolarity(text):\n",
    "            return TextBlob(text).sentiment.polarity\n",
    "        df['Subjectivity'] = df['Tweets'].apply(getSubjectivity)\n",
    "        df['Polarity'] = df['Tweets'].apply(getPolarity)\n",
    "        def getAnalysis(score):\n",
    "            if score < 0:\n",
    "                return 'Negative'\n",
    "            elif score == 0:\n",
    "                return 'Neutral'\n",
    "            else:\n",
    "                return 'Positive'\n",
    "        df['Analysis'] = df['Polarity'].apply(getAnalysis)\n",
    "        positive = df.loc[df['Analysis'].str.contains('Positive')]\n",
    "        negative = df.loc[df['Analysis'].str.contains('Negative')]\n",
    "        neutral = df.loc[df['Analysis'].str.contains('Neutral')]\n",
    "        \n",
    "        positive_per = round((positive.shape[0]/df.shape[0])*100, 1) #p\n",
    "        negative_per = round((negative.shape[0]/df.shape[0])*100, 1) #n\n",
    "        neutral_per = round((neutral.shape[0]/df.shape[0])*100, 1)  #neutral\n",
    "        \n",
    "        po = Label(f2, text=f\"Positive:- {positive_per}%\",padx=15).grid(row=1, column=2)\n",
    "        na = Label(f2, text=f\"Negative:- {negative_per}%\",pady=5,padx=15).grid(row=2, column=2)\n",
    "        nt = Label(f2, text=f\"Neutral:- {neutral_per}%\",padx=15).grid(row=3, column=2)\n",
    "        ##################################################################\n",
    "        ###################################################################\n",
    "        number +=1\n",
    "    else:\n",
    "        error2.grid()\n",
    "number=0\n",
    "button = Button(input_frame1,text=\"Get Analysis\", command=click, fg=\"blue\",height = 1, width = 15)\n",
    "button.grid(row=1, column=1)\n",
    "root.mainloop()"
   ]
  },
  {
   "cell_type": "code",
   "execution_count": null,
   "id": "b8bef434",
   "metadata": {},
   "outputs": [],
   "source": []
  },
  {
   "cell_type": "code",
   "execution_count": null,
   "id": "4b824e10",
   "metadata": {},
   "outputs": [],
   "source": [
    "def create_charts():\n",
    "    global pie2\n",
    "    \n",
    "    figure2 = Figure(figsize=(4,3), dpi=100) \n",
    "    subplot2 = figure2.add_subplot(111) \n",
    "    labels2 = 'Label1', 'Label2', 'Label3' \n",
    "    pieSizes = [float(x1),float(x2),float(x3)]\n",
    "    my_colors2 = ['lightblue','lightsteelblue','silver']\n",
    "    explode2 = (0, 0.1, 0)  \n",
    "    subplot2.pie(pieSizes, colors=my_colors2, explode=explode2, labels=labels2, autopct='%1.1f%%', shadow=True, startangle=90) \n",
    "    subplot2.axis('equal')  \n",
    "    pie2 = FigureCanvasTkAgg(figure2, root)\n",
    "    pie2.get_tk_widget().pack()"
   ]
  },
  {
   "cell_type": "code",
   "execution_count": null,
   "id": "b2adb5f0",
   "metadata": {},
   "outputs": [],
   "source": []
  },
  {
   "cell_type": "code",
   "execution_count": null,
   "id": "f76919d9",
   "metadata": {},
   "outputs": [],
   "source": []
  },
  {
   "cell_type": "code",
   "execution_count": null,
   "id": "21320b57",
   "metadata": {},
   "outputs": [],
   "source": []
  },
  {
   "cell_type": "code",
   "execution_count": null,
   "id": "c8eb71d3",
   "metadata": {},
   "outputs": [],
   "source": []
  },
  {
   "cell_type": "code",
   "execution_count": null,
   "id": "58260d45",
   "metadata": {},
   "outputs": [],
   "source": []
  },
  {
   "cell_type": "code",
   "execution_count": 103,
   "id": "88ea412a",
   "metadata": {},
   "outputs": [],
   "source": [
    "####ROUGH####"
   ]
  },
  {
   "cell_type": "code",
   "execution_count": 1,
   "id": "40590223",
   "metadata": {},
   "outputs": [],
   "source": [
    "import tkinter as tk\n",
    "from matplotlib.backends.backend_tkagg import FigureCanvasTkAgg\n",
    "from matplotlib.figure import Figure\n",
    " \n",
    "root= tk.Tk()\n",
    "  \n",
    "canvas1 = tk.Canvas(root, width = 800, height = 300)\n",
    "canvas1.pack()\n",
    "\n",
    "label1 = tk.Label(root, text='Graphical User Interface')\n",
    "label1.config(font=('Arial', 20))\n",
    "canvas1.create_window(400, 50, window=label1)\n",
    "  \n",
    "def create_charts():\n",
    "    global pie2\n",
    "    x1 = 50\n",
    "    x2 = 1\n",
    "    x3 = 49\n",
    "\n",
    "    figure2 = Figure(figsize=(4,3), dpi=100) \n",
    "    subplot2 = figure2.add_subplot(111) \n",
    "    labels2 = 'Label1', 'Label2', 'Label3' \n",
    "    pieSizes = [float(x1),float(x2),float(x3)]\n",
    "    my_colors2 = ['lightblue','lightsteelblue','silver']\n",
    "    explode2 = (0, 0.1, 0)  \n",
    "    subplot2.pie(pieSizes, colors=my_colors2, explode=explode2, labels=labels2, autopct='%1.1f%%', shadow=True, startangle=90) \n",
    "    subplot2.axis('equal')  \n",
    "    pie2 = FigureCanvasTkAgg(figure2, root)\n",
    "    pie2.get_tk_widget().pack()\n",
    "\n",
    "            \n",
    "button1 = tk.Button (root, text=' Create Charts ',command=create_charts, bg='palegreen2', font=('Arial', 11, 'bold')) \n",
    "canvas1.create_window(400, 180, window=button1)\n",
    "\n",
    "\n",
    "button3 = tk.Button (root, text='Exit Application', command=root.destroy, bg='lightsteelblue2', font=('Arial', 11, 'bold'))\n",
    "canvas1.create_window(400, 260, window=button3)\n",
    " \n",
    "root.mainloop()"
   ]
  },
  {
   "cell_type": "code",
   "execution_count": null,
   "id": "b9081b6f",
   "metadata": {},
   "outputs": [],
   "source": []
  },
  {
   "cell_type": "code",
   "execution_count": 116,
   "id": "a184c899",
   "metadata": {},
   "outputs": [],
   "source": []
  },
  {
   "cell_type": "code",
   "execution_count": null,
   "id": "cfd87fde",
   "metadata": {},
   "outputs": [],
   "source": []
  },
  {
   "cell_type": "code",
   "execution_count": null,
   "id": "ed6bccd6",
   "metadata": {},
   "outputs": [],
   "source": []
  },
  {
   "cell_type": "code",
   "execution_count": null,
   "id": "eff98ed8",
   "metadata": {},
   "outputs": [],
   "source": []
  },
  {
   "cell_type": "code",
   "execution_count": null,
   "id": "47f9352a",
   "metadata": {},
   "outputs": [],
   "source": []
  }
 ],
 "metadata": {
  "kernelspec": {
   "display_name": "Python 3 (ipykernel)",
   "language": "python",
   "name": "python3"
  },
  "language_info": {
   "codemirror_mode": {
    "name": "ipython",
    "version": 3
   },
   "file_extension": ".py",
   "mimetype": "text/x-python",
   "name": "python",
   "nbconvert_exporter": "python",
   "pygments_lexer": "ipython3",
   "version": "3.8.7"
  }
 },
 "nbformat": 4,
 "nbformat_minor": 5
}
